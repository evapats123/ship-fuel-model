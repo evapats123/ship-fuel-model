{
  "cells": [
    {
      "cell_type": "markdown",
      "metadata": {
        "id": "view-in-github",
        "colab_type": "text"
      },
      "source": [
        "<a href=\"https://colab.research.google.com/github/evapats123/ship-fuel-model/blob/main/Ad_likelihood.ipynb\" target=\"_parent\"><img src=\"https://colab.research.google.com/assets/colab-badge.svg\" alt=\"Open In Colab\"/></a>"
      ]
    },
    {
      "cell_type": "markdown",
      "source": [
        "# 1. Importing Required Libraries\n",
        "# Basic libraries"
      ],
      "metadata": {
        "id": "hnI3opAO_dkC"
      }
    },
    {
      "cell_type": "code",
      "source": [
        "import numpy as np\n",
        "import pandas as pd\n",
        "import seaborn as sns\n",
        "import matplotlib.pyplot as plt\n",
        "\n",
        "from sklearn.model_selection import train_test_split"
      ],
      "metadata": {
        "id": "TRYkO0Pg-tIb"
      },
      "execution_count": null,
      "outputs": []
    },
    {
      "cell_type": "code",
      "source": [
        "# Models\n",
        "from sklearn.linear_model import LogisticRegression\n",
        "from sklearn.svm import SVC\n",
        "from sklearn.ensemble import RandomForestClassifier\n",
        "from sklearn.tree import DecisionTreeClassifier\n",
        "from sklearn.neighbors import KNeighborsClassifier\n",
        "from xgboost import XGBClassifier\n",
        "\n",
        "# Building ANN\n",
        "import tensorflow as tf\n",
        "\n",
        "from sklearn.metrics import confusion_matrix, recall_score, precision_score, accuracy_score\n",
        "from warnings import simplefilter\n",
        "simplefilter(\"ignore\")"
      ],
      "metadata": {
        "id": "SIhHw-vn-tlQ"
      },
      "execution_count": null,
      "outputs": []
    },
    {
      "cell_type": "markdown",
      "source": [
        "# 2. Loading the Dataset"
      ],
      "metadata": {
        "id": "Ju0G-wVn_zuW"
      }
    },
    {
      "cell_type": "code",
      "source": [
        "data = pd.read_csv(\"/content/advertising.csv\")\n",
        "print(data.head())"
      ],
      "metadata": {
        "id": "E-8lH5I6_zAe",
        "outputId": "bfd65cec-a312-499e-8463-0e1a15c79db4",
        "colab": {
          "base_uri": "https://localhost:8080/"
        }
      },
      "execution_count": null,
      "outputs": [
        {
          "output_type": "stream",
          "name": "stdout",
          "text": [
            "   Daily Time Spent on Site  Age  Area Income  Daily Internet Usage  \\\n",
            "0                     68.95   35     61833.90                256.09   \n",
            "1                     80.23   31     68441.85                193.77   \n",
            "2                     69.47   26     59785.94                236.50   \n",
            "3                     74.15   29     54806.18                245.89   \n",
            "4                     68.37   35     73889.99                225.58   \n",
            "\n",
            "                           Ad Topic Line            City  Male     Country  \\\n",
            "0     Cloned 5thgeneration orchestration     Wrightburgh     0     Tunisia   \n",
            "1     Monitored national standardization       West Jodi     1       Nauru   \n",
            "2       Organic bottom-line service-desk        Davidton     0  San Marino   \n",
            "3  Triple-buffered reciprocal time-frame  West Terrifurt     1       Italy   \n",
            "4          Robust logistical utilization    South Manuel     0     Iceland   \n",
            "\n",
            "             Timestamp  Clicked on Ad  \n",
            "0  2016-03-27 00:53:11              0  \n",
            "1  2016-04-04 01:39:02              0  \n",
            "2  2016-03-13 20:35:42              0  \n",
            "3  2016-01-10 02:31:19              0  \n",
            "4  2016-06-03 03:36:18              0  \n"
          ]
        }
      ]
    },
    {
      "cell_type": "markdown",
      "source": [
        "# 3. Exploratory Data Analysis"
      ],
      "metadata": {
        "id": "46Nv2V6-Ac2A"
      }
    },
    {
      "cell_type": "code",
      "source": [
        "# 3.1 Dataset Information\n",
        "data.info()\n"
      ],
      "metadata": {
        "id": "LUVyuek2_uLO",
        "outputId": "d8e719a0-ffaa-4bdd-8a48-3f9040e5f594",
        "colab": {
          "base_uri": "https://localhost:8080/"
        }
      },
      "execution_count": null,
      "outputs": [
        {
          "output_type": "stream",
          "name": "stdout",
          "text": [
            "<class 'pandas.core.frame.DataFrame'>\n",
            "RangeIndex: 1000 entries, 0 to 999\n",
            "Data columns (total 10 columns):\n",
            " #   Column                    Non-Null Count  Dtype  \n",
            "---  ------                    --------------  -----  \n",
            " 0   Daily Time Spent on Site  1000 non-null   float64\n",
            " 1   Age                       1000 non-null   int64  \n",
            " 2   Area Income               1000 non-null   float64\n",
            " 3   Daily Internet Usage      1000 non-null   float64\n",
            " 4   Ad Topic Line             1000 non-null   object \n",
            " 5   City                      1000 non-null   object \n",
            " 6   Male                      1000 non-null   int64  \n",
            " 7   Country                   1000 non-null   object \n",
            " 8   Timestamp                 1000 non-null   object \n",
            " 9   Clicked on Ad             1000 non-null   int64  \n",
            "dtypes: float64(3), int64(3), object(4)\n",
            "memory usage: 78.3+ KB\n"
          ]
        }
      ]
    },
    {
      "cell_type": "code",
      "source": [
        "# Rename columns if necessary\n",
        "data = data.rename(columns={\"Male\": \"Gender\"})"
      ],
      "metadata": {
        "id": "dSwn6TnbAff8"
      },
      "execution_count": null,
      "outputs": []
    },
    {
      "cell_type": "code",
      "source": [
        "# Checking the number of rows and columns\n",
        "print(data.shape)"
      ],
      "metadata": {
        "id": "stc1wi6HAq0i",
        "outputId": "64e65c15-25d6-49ef-e1c7-8d994c387829",
        "colab": {
          "base_uri": "https://localhost:8080/"
        }
      },
      "execution_count": null,
      "outputs": [
        {
          "output_type": "stream",
          "name": "stdout",
          "text": [
            "(1000, 10)\n"
          ]
        }
      ]
    },
    {
      "cell_type": "code",
      "source": [
        "# 3.2 Total Missing Values\n",
        "print(data.isnull().sum())\n"
      ],
      "metadata": {
        "id": "8hvY3AtzAxq9",
        "outputId": "dc6293f2-baff-4a3f-bfc2-91594bb5f1cf",
        "colab": {
          "base_uri": "https://localhost:8080/"
        }
      },
      "execution_count": null,
      "outputs": [
        {
          "output_type": "stream",
          "name": "stdout",
          "text": [
            "Daily Time Spent on Site    0\n",
            "Age                         0\n",
            "Area Income                 0\n",
            "Daily Internet Usage        0\n",
            "Ad Topic Line               0\n",
            "City                        0\n",
            "Gender                      0\n",
            "Country                     0\n",
            "Timestamp                   0\n",
            "Clicked on Ad               0\n",
            "dtype: int64\n"
          ]
        }
      ]
    },
    {
      "cell_type": "code",
      "source": [
        "# Assessing duplicate values\n",
        "print(\"Number of duplicate values:\", data.duplicated().sum())\n"
      ],
      "metadata": {
        "id": "5lq6TXwtA1x7",
        "outputId": "5043af2d-a002-49c3-ff95-724a2bdc0c59",
        "colab": {
          "base_uri": "https://localhost:8080/"
        }
      },
      "execution_count": null,
      "outputs": [
        {
          "output_type": "stream",
          "name": "stdout",
          "text": [
            "Number of duplicate values: 0\n"
          ]
        }
      ]
    },
    {
      "cell_type": "code",
      "source": [
        "# 3.3 Summary of the Dataset\n",
        "print(data.describe())"
      ],
      "metadata": {
        "id": "r_YK9KJ-A8Dn",
        "outputId": "28753232-830a-4a2e-cc91-703f03a4b4b7",
        "colab": {
          "base_uri": "https://localhost:8080/"
        }
      },
      "execution_count": null,
      "outputs": [
        {
          "output_type": "stream",
          "name": "stdout",
          "text": [
            "       Daily Time Spent on Site          Age   Area Income  \\\n",
            "count               1000.000000  1000.000000   1000.000000   \n",
            "mean                  65.000200    36.009000  55000.000080   \n",
            "std                   15.853615     8.785562  13414.634022   \n",
            "min                   32.600000    19.000000  13996.500000   \n",
            "25%                   51.360000    29.000000  47031.802500   \n",
            "50%                   68.215000    35.000000  57012.300000   \n",
            "75%                   78.547500    42.000000  65470.635000   \n",
            "max                   91.430000    61.000000  79484.800000   \n",
            "\n",
            "       Daily Internet Usage       Gender  Clicked on Ad  \n",
            "count           1000.000000  1000.000000     1000.00000  \n",
            "mean             180.000100     0.481000        0.50000  \n",
            "std               43.902339     0.499889        0.50025  \n",
            "min              104.780000     0.000000        0.00000  \n",
            "25%              138.830000     0.000000        0.00000  \n",
            "50%              183.130000     0.000000        0.50000  \n",
            "75%              218.792500     1.000000        1.00000  \n",
            "max              269.960000     1.000000        1.00000  \n"
          ]
        }
      ]
    },
    {
      "cell_type": "code",
      "source": [
        "# Checking the distribution of target feature\n",
        "click = data[\"Clicked on Ad\"].value_counts()\n",
        "print(click)"
      ],
      "metadata": {
        "id": "X2ZHsGIqBGjN",
        "outputId": "72dde361-2d20-400d-9431-4000ada3cb06",
        "colab": {
          "base_uri": "https://localhost:8080/"
        }
      },
      "execution_count": null,
      "outputs": [
        {
          "output_type": "stream",
          "name": "stdout",
          "text": [
            "Clicked on Ad\n",
            "0    500\n",
            "1    500\n",
            "Name: count, dtype: int64\n"
          ]
        }
      ]
    },
    {
      "cell_type": "code",
      "source": [
        "sns.countplot(x=\"Clicked on Ad\", data=data)\n",
        "plt.xlabel(\"Clicked on Ad\")\n",
        "plt.ylabel(\"Count of Clicked\")\n",
        "plt.show()"
      ],
      "metadata": {
        "id": "Ebfx_8X5BL2A",
        "outputId": "c1ad03cb-a238-4d00-d312-7dfe8ced540c",
        "colab": {
          "base_uri": "https://localhost:8080/",
          "height": 449
        }
      },
      "execution_count": null,
      "outputs": [
        {
          "output_type": "display_data",
          "data": {
            "text/plain": [
              "<Figure size 640x480 with 1 Axes>"
            ],
            "image/png": "[encoded data removed]"
          },
          "metadata": {}
        }
      ]
    },
    {
      "cell_type": "code",
      "source": [
        "# 3.4 Analyzing Categorical Features\n",
        "print(data.columns)"
      ],
      "metadata": {
        "id": "zilXvmBcBr92",
        "outputId": "540cfe2a-57dd-43b8-dfff-d14ecb3930e9",
        "colab": {
          "base_uri": "https://localhost:8080/"
        }
      },
      "execution_count": null,
      "outputs": [
        {
          "output_type": "stream",
          "name": "stdout",
          "text": [
            "Index(['Daily Time Spent on Site', 'Age', 'Area Income',\n",
            "       'Daily Internet Usage', 'Ad Topic Line', 'City', 'Gender', 'Country',\n",
            "       'Timestamp', 'Clicked on Ad'],\n",
            "      dtype='object')\n"
          ]
        }
      ]
    },
    {
      "cell_type": "markdown",
      "source": [
        "# 4. Splitting the Dataset"
      ],
      "metadata": {
        "id": "GP395hjKBncf"
      }
    },
    {
      "cell_type": "code",
      "source": [
        "X = data.drop([\"Ad Topic Line\", \"City\", \"Country\", \"Timestamp\"], axis=1)\n",
        "Y = data[\"Clicked on Ad\"]"
      ],
      "metadata": {
        "id": "T3IPrYuuBbp7"
      },
      "execution_count": null,
      "outputs": []
    },
    {
      "cell_type": "code",
      "source": [
        "# Correlation Matrix\n",
        "data_corr = data.select_dtypes(include=[np.number]).corr()\n",
        "sns.heatmap(data_corr, annot=True)\n",
        "plt.show()"
      ],
      "metadata": {
        "id": "KmoEYZFsBmnl",
        "outputId": "ce093939-d6c7-4a8b-d2b4-9fee69b0caa3",
        "colab": {
          "base_uri": "https://localhost:8080/",
          "height": 592
        }
      },
      "execution_count": null,
      "outputs": [
        {
          "output_type": "display_data",
          "data": {
            "text/plain": [
              "<Figure size 640x480 with 2 Axes>"
            ],
            "image/png": "[encoded data removed]"
          },
          "metadata": {}
        }
      ]
    },
    {
      "cell_type": "code",
      "source": [
        "# Split data\n",
        "X_train, X_test, Y_train, Y_test = train_test_split(X, Y, test_size=0.3, random_state=0)"
      ],
      "metadata": {
        "id": "x9MMc3NlB-M1"
      },
      "execution_count": null,
      "outputs": []
    },
    {
      "cell_type": "markdown",
      "source": [
        "# 5. Feature Scaling"
      ],
      "metadata": {
        "id": "-FKgo41MCEoJ"
      }
    },
    {
      "cell_type": "code",
      "source": [
        "from sklearn.preprocessing import MinMaxScaler\n",
        "mmscaler = MinMaxScaler()\n",
        "X_train_minmax = mmscaler.fit_transform(X_train)\n",
        "X_test_minmax = mmscaler.transform(X_test)\n",
        "\n",
        "print(X_train.shape)\n",
        "print(X_test.shape)\n",
        "print(Y_train.shape)\n",
        "print(Y_test.shape)"
      ],
      "metadata": {
        "id": "xqMqjmG7CCjL",
        "outputId": "d2ae5690-4c83-4066-e7a1-23fc221231ff",
        "colab": {
          "base_uri": "https://localhost:8080/"
        }
      },
      "execution_count": null,
      "outputs": [
        {
          "output_type": "stream",
          "name": "stdout",
          "text": [
            "(700, 6)\n",
            "(300, 6)\n",
            "(700,)\n",
            "(300,)\n"
          ]
        }
      ]
    },
    {
      "cell_type": "markdown",
      "source": [
        "# 6. Model Selection"
      ],
      "metadata": {
        "id": "wazZPhWsCYXL"
      }
    },
    {
      "cell_type": "markdown",
      "source": [
        "## 6.1 Logistic Regression"
      ],
      "metadata": {
        "id": "Mi1gTxy9CZ5S"
      }
    },
    {
      "cell_type": "code",
      "source": [
        "LR = LogisticRegression()\n",
        "LR.fit(X_train, Y_train)\n",
        "y_pred_LR = LR.predict(X_train)\n",
        "CFM_LR = confusion_matrix(Y_train, y_pred_LR)\n",
        "TN, FP, FN, TP = CFM_LR.ravel()\n",
        "Sen_LR = TP / (TP + FN)\n",
        "Spec_LR = TN / (TN + FP)"
      ],
      "metadata": {
        "id": "YhK6Bs6MCRI3"
      },
      "execution_count": null,
      "outputs": []
    },
    {
      "cell_type": "markdown",
      "source": [
        "## 6.2 Support Vector Classifier"
      ],
      "metadata": {
        "id": "0IHr2tN-CgUn"
      }
    },
    {
      "cell_type": "code",
      "source": [
        "SVM = SVC(kernel=\"linear\", random_state=0)\n",
        "SVM.fit(X_train, Y_train)\n",
        "y_pred_SVM = SVM.predict(X_train)\n",
        "CFM_SVM = confusion_matrix(Y_train, y_pred_SVM)\n",
        "TN, FP, FN, TP = CFM_SVM.ravel()\n",
        "Sen_SVM = TP / (TP + FN)\n",
        "Spec_SVM = TN / (TN + FP)"
      ],
      "metadata": {
        "id": "-NmUXZkXCfH1"
      },
      "execution_count": null,
      "outputs": []
    },
    {
      "cell_type": "markdown",
      "source": [
        "## 6.3 KNeighborsClassifier"
      ],
      "metadata": {
        "id": "Pcnuw7plCl3n"
      }
    },
    {
      "cell_type": "code",
      "source": [
        "KNN = KNeighborsClassifier(n_neighbors=3)\n",
        "KNN.fit(X_train, Y_train)\n",
        "y_pred_KNN = KNN.predict(X_train)\n",
        "CFM_KNN = confusion_matrix(Y_train, y_pred_KNN)\n",
        "TN, FP, FN, TP = CFM_KNN.ravel()\n",
        "Sen_KNN = TP / (TP + FN)\n",
        "Spec_KNN = TN / (TN + FP)"
      ],
      "metadata": {
        "id": "YpOgEoHdCkrI"
      },
      "execution_count": null,
      "outputs": []
    },
    {
      "cell_type": "markdown",
      "source": [
        "## 6.4 Decision Tree Classifier"
      ],
      "metadata": {
        "id": "k-FIrEjaCtWe"
      }
    },
    {
      "cell_type": "code",
      "source": [
        "DT = DecisionTreeClassifier(criterion=\"entropy\", random_state=0)\n",
        "DT.fit(X_train, Y_train)\n",
        "y_pred_DT = DT.predict(X_train)\n",
        "CFM_DT = confusion_matrix(Y_train, y_pred_DT)\n",
        "TN, FP, FN, TP = CFM_DT.ravel()\n",
        "Sen_DT = TP / (TP + FN)\n",
        "Spec_DT = TN / (TN + FP)"
      ],
      "metadata": {
        "id": "laDqZIElCsqD"
      },
      "execution_count": null,
      "outputs": []
    },
    {
      "cell_type": "code",
      "source": [
        "from sklearn.tree import plot_tree\n",
        "plt.figure(figsize=(5, 2.5))\n",
        "plot_tree(DT, filled=True, feature_names=X.columns, class_names = Y.unique().astype(str))\n",
        "plt.show()"
      ],
      "metadata": {
        "id": "Q25ayWf5DnWD",
        "outputId": "cac33329-3df5-4399-9eae-17a1a14283ab",
        "colab": {
          "base_uri": "https://localhost:8080/",
          "height": 229
        }
      },
      "execution_count": null,
      "outputs": [
        {
          "output_type": "display_data",
          "data": {
            "text/plain": [
              "<Figure size 500x250 with 1 Axes>"
            ],
            "image/png": "[encoded data removed]"
          },
          "metadata": {}
        }
      ]
    },
    {
      "cell_type": "markdown",
      "source": [
        "## 6.5 Random Forest Classifier"
      ],
      "metadata": {
        "id": "G4Ag7N39C0sF"
      }
    },
    {
      "cell_type": "code",
      "source": [
        "RF = RandomForestClassifier(n_estimators=100, n_jobs=-1, bootstrap=True, min_samples_leaf=100, oob_score=True)\n",
        "RF.fit(X_train, Y_train)\n",
        "y_pred_RF = RF.predict(X_train)\n",
        "CFM_RF = confusion_matrix(Y_train, y_pred_RF)\n",
        "TN, FP, FN, TP = CFM_RF.ravel()\n",
        "Sen_RF = TP / (TP + FN)\n",
        "Spec_RF = TN / (TN + FP)"
      ],
      "metadata": {
        "id": "i-2cdA3tCx9C"
      },
      "execution_count": null,
      "outputs": []
    },
    {
      "cell_type": "markdown",
      "source": [
        "## 6.6 XGBClassifier"
      ],
      "metadata": {
        "id": "3uahc6MiC-bs"
      }
    },
    {
      "cell_type": "code",
      "source": [
        "XGB = XGBClassifier(n_estimators=100)\n",
        "XGB.fit(X_train, Y_train)\n",
        "y_pred_XGB = XGB.predict(X_train)\n",
        "CFM_XGB = confusion_matrix(Y_train, y_pred_XGB)\n",
        "TN, FP, FN, TP = CFM_XGB.ravel()\n",
        "Sen_XGB = TP / (TP + FN)\n",
        "Spec_XGB = TN / (TN + FP)\n"
      ],
      "metadata": {
        "id": "CfSKDkylC4Qf"
      },
      "execution_count": null,
      "outputs": []
    },
    {
      "cell_type": "markdown",
      "source": [
        "## 6.7 Artificial Neural Network"
      ],
      "metadata": {
        "id": "HFjE1e4AC_5h"
      }
    },
    {
      "cell_type": "code",
      "source": [
        "Y_train_dum = pd.get_dummies(Y_train)\n",
        "\n",
        "ANN = tf.keras.models.Sequential()\n",
        "ANN.add(tf.keras.layers.Dense(units=5, activation=\"relu\"))\n",
        "ANN.add(tf.keras.layers.Dense(units=4, activation=\"relu\"))\n",
        "ANN.add(tf.keras.layers.Dense(units=1, activation=\"sigmoid\"))\n",
        "\n",
        "ANN.compile(optimizer=\"adam\", loss=\"binary_crossentropy\", metrics=[\"accuracy\"])\n",
        "ANN.fit(X_train, Y_train, batch_size=32, epochs=50)\n",
        "\n",
        "ANN.summary()"
      ],
      "metadata": {
        "id": "IhFX6J3qDCDd",
        "outputId": "a56117bd-9623-4484-bfaa-8e25d1d6d6d9",
        "colab": {
          "base_uri": "https://localhost:8080/",
          "height": 1000
        }
      },
      "execution_count": null,
      "outputs": [
        {
          "output_type": "stream",
          "name": "stdout",
          "text": [
            "Epoch 1/50\n",
            "\u001b[1m22/22\u001b[0m \u001b[32m━━━━━━━━━━━━━━━━━━━━\u001b[0m\u001b[37m\u001b[0m \u001b[1m2s\u001b[0m 4ms/step - accuracy: 0.5054 - loss: 4672.0283\n",
            "Epoch 2/50\n",
            "\u001b[1m22/22\u001b[0m \u001b[32m━━━━━━━━━━━━━━━━━━━━\u001b[0m\u001b[37m\u001b[0m \u001b[1m0s\u001b[0m 5ms/step - accuracy: 0.4884 - loss: 4078.3992\n",
            "Epoch 3/50\n",
            "\u001b[1m22/22\u001b[0m \u001b[32m━━━━━━━━━━━━━━━━━━━━\u001b[0m\u001b[37m\u001b[0m \u001b[1m0s\u001b[0m 5ms/step - accuracy: 0.4630 - loss: 3467.6899\n",
            "Epoch 4/50\n",
            "\u001b[1m22/22\u001b[0m \u001b[32m━━━━━━━━━━━━━━━━━━━━\u001b[0m\u001b[37m\u001b[0m \u001b[1m0s\u001b[0m 4ms/step - accuracy: 0.4793 - loss: 2612.4756\n",
            "Epoch 5/50\n",
            "\u001b[1m22/22\u001b[0m \u001b[32m━━━━━━━━━━━━━━━━━━━━\u001b[0m\u001b[37m\u001b[0m \u001b[1m0s\u001b[0m 4ms/step - accuracy: 0.4791 - loss: 1987.1425\n",
            "Epoch 6/50\n",
            "\u001b[1m22/22\u001b[0m \u001b[32m━━━━━━━━━━━━━━━━━━━━\u001b[0m\u001b[37m\u001b[0m \u001b[1m0s\u001b[0m 5ms/step - accuracy: 0.4688 - loss: 1362.2924\n",
            "Epoch 7/50\n",
            "\u001b[1m22/22\u001b[0m \u001b[32m━━━━━━━━━━━━━━━━━━━━\u001b[0m\u001b[37m\u001b[0m \u001b[1m0s\u001b[0m 4ms/step - accuracy: 0.4842 - loss: 714.3278\n",
            "Epoch 8/50\n",
            "\u001b[1m22/22\u001b[0m \u001b[32m━━━━━━━━━━━━━━━━━━━━\u001b[0m\u001b[37m\u001b[0m \u001b[1m0s\u001b[0m 5ms/step - accuracy: 0.4750 - loss: 140.2193\n",
            "Epoch 9/50\n",
            "\u001b[1m22/22\u001b[0m \u001b[32m━━━━━━━━━━━━━━━━━━━━\u001b[0m\u001b[37m\u001b[0m \u001b[1m0s\u001b[0m 5ms/step - accuracy: 0.5074 - loss: 0.6980\n",
            "Epoch 10/50\n",
            "\u001b[1m22/22\u001b[0m \u001b[32m━━━━━━━━━━━━━━━━━━━━\u001b[0m\u001b[37m\u001b[0m \u001b[1m0s\u001b[0m 4ms/step - accuracy: 0.5055 - loss: 0.6959\n",
            "Epoch 11/50\n",
            "\u001b[1m22/22\u001b[0m \u001b[32m━━━━━━━━━━━━━━━━━━━━\u001b[0m\u001b[37m\u001b[0m \u001b[1m0s\u001b[0m 5ms/step - accuracy: 0.5167 - loss: 0.6941\n",
            "Epoch 12/50\n",
            "\u001b[1m22/22\u001b[0m \u001b[32m━━━━━━━━━━━━━━━━━━━━\u001b[0m\u001b[37m\u001b[0m \u001b[1m0s\u001b[0m 4ms/step - accuracy: 0.5161 - loss: 0.6940\n",
            "Epoch 13/50\n",
            "\u001b[1m22/22\u001b[0m \u001b[32m━━━━━━━━━━━━━━━━━━━━\u001b[0m\u001b[37m\u001b[0m \u001b[1m0s\u001b[0m 4ms/step - accuracy: 0.5184 - loss: 0.6936\n",
            "Epoch 14/50\n",
            "\u001b[1m22/22\u001b[0m \u001b[32m━━━━━━━━━━━━━━━━━━━━\u001b[0m\u001b[37m\u001b[0m \u001b[1m0s\u001b[0m 5ms/step - accuracy: 0.5268 - loss: 0.6921\n",
            "Epoch 15/50\n",
            "\u001b[1m22/22\u001b[0m \u001b[32m━━━━━━━━━━━━━━━━━━━━\u001b[0m\u001b[37m\u001b[0m \u001b[1m0s\u001b[0m 4ms/step - accuracy: 0.5161 - loss: 0.6939\n",
            "Epoch 16/50\n",
            "\u001b[1m22/22\u001b[0m \u001b[32m━━━━━━━━━━━━━━━━━━━━\u001b[0m\u001b[37m\u001b[0m \u001b[1m0s\u001b[0m 5ms/step - accuracy: 0.5058 - loss: 0.6955\n",
            "Epoch 17/50\n",
            "\u001b[1m22/22\u001b[0m \u001b[32m━━━━━━━━━━━━━━━━━━━━\u001b[0m\u001b[37m\u001b[0m \u001b[1m0s\u001b[0m 4ms/step - accuracy: 0.5427 - loss: 0.6895\n",
            "Epoch 18/50\n",
            "\u001b[1m22/22\u001b[0m \u001b[32m━━━━━━━━━━━━━━━━━━━━\u001b[0m\u001b[37m\u001b[0m \u001b[1m0s\u001b[0m 4ms/step - accuracy: 0.5174 - loss: 0.6936\n",
            "Epoch 19/50\n",
            "\u001b[1m22/22\u001b[0m \u001b[32m━━━━━━━━━━━━━━━━━━━━\u001b[0m\u001b[37m\u001b[0m \u001b[1m0s\u001b[0m 4ms/step - accuracy: 0.5222 - loss: 0.6928\n",
            "Epoch 20/50\n",
            "\u001b[1m22/22\u001b[0m \u001b[32m━━━━━━━━━━━━━━━━━━━━\u001b[0m\u001b[37m\u001b[0m \u001b[1m0s\u001b[0m 5ms/step - accuracy: 0.5031 - loss: 0.6958\n",
            "Epoch 21/50\n",
            "\u001b[1m22/22\u001b[0m \u001b[32m━━━━━━━━━━━━━━━━━━━━\u001b[0m\u001b[37m\u001b[0m \u001b[1m0s\u001b[0m 5ms/step - accuracy: 0.5216 - loss: 0.6928\n",
            "Epoch 22/50\n",
            "\u001b[1m22/22\u001b[0m \u001b[32m━━━━━━━━━━━━━━━━━━━━\u001b[0m\u001b[37m\u001b[0m \u001b[1m0s\u001b[0m 5ms/step - accuracy: 0.5206 - loss: 0.6930\n",
            "Epoch 23/50\n",
            "\u001b[1m22/22\u001b[0m \u001b[32m━━━━━━━━━━━━━━━━━━━━\u001b[0m\u001b[37m\u001b[0m \u001b[1m0s\u001b[0m 3ms/step - accuracy: 0.5301 - loss: 0.6915  \n",
            "Epoch 24/50\n",
            "\u001b[1m22/22\u001b[0m \u001b[32m━━━━━━━━━━━━━━━━━━━━\u001b[0m\u001b[37m\u001b[0m \u001b[1m0s\u001b[0m 6ms/step - accuracy: 0.5286 - loss: 0.6917\n",
            "Epoch 25/50\n",
            "\u001b[1m22/22\u001b[0m \u001b[32m━━━━━━━━━━━━━━━━━━━━\u001b[0m\u001b[37m\u001b[0m \u001b[1m0s\u001b[0m 5ms/step - accuracy: 0.5336 - loss: 0.6909\n",
            "Epoch 26/50\n",
            "\u001b[1m22/22\u001b[0m \u001b[32m━━━━━━━━━━━━━━━━━━━━\u001b[0m\u001b[37m\u001b[0m \u001b[1m0s\u001b[0m 6ms/step - accuracy: 0.5157 - loss: 0.6936\n",
            "Epoch 27/50\n",
            "\u001b[1m22/22\u001b[0m \u001b[32m━━━━━━━━━━━━━━━━━━━━\u001b[0m\u001b[37m\u001b[0m \u001b[1m0s\u001b[0m 5ms/step - accuracy: 0.5140 - loss: 0.6938\n",
            "Epoch 28/50\n",
            "\u001b[1m22/22\u001b[0m \u001b[32m━━━━━━━━━━━━━━━━━━━━\u001b[0m\u001b[37m\u001b[0m \u001b[1m0s\u001b[0m 5ms/step - accuracy: 0.4994 - loss: 0.6959\n",
            "Epoch 29/50\n",
            "\u001b[1m22/22\u001b[0m \u001b[32m━━━━━━━━━━━━━━━━━━━━\u001b[0m\u001b[37m\u001b[0m \u001b[1m0s\u001b[0m 4ms/step - accuracy: 0.5400 - loss: 0.6900\n",
            "Epoch 30/50\n",
            "\u001b[1m22/22\u001b[0m \u001b[32m━━━━━━━━━━━━━━━━━━━━\u001b[0m\u001b[37m\u001b[0m \u001b[1m0s\u001b[0m 4ms/step - accuracy: 0.5325 - loss: 0.6911\n",
            "Epoch 31/50\n",
            "\u001b[1m22/22\u001b[0m \u001b[32m━━━━━━━━━━━━━━━━━━━━\u001b[0m\u001b[37m\u001b[0m \u001b[1m0s\u001b[0m 4ms/step - accuracy: 0.5318 - loss: 0.6911\n",
            "Epoch 32/50\n",
            "\u001b[1m22/22\u001b[0m \u001b[32m━━━━━━━━━━━━━━━━━━━━\u001b[0m\u001b[37m\u001b[0m \u001b[1m0s\u001b[0m 4ms/step - accuracy: 0.5188 - loss: 0.6930\n",
            "Epoch 33/50\n",
            "\u001b[1m22/22\u001b[0m \u001b[32m━━━━━━━━━━━━━━━━━━━━\u001b[0m\u001b[37m\u001b[0m \u001b[1m0s\u001b[0m 4ms/step - accuracy: 0.5133 - loss: 0.6937\n",
            "Epoch 34/50\n",
            "\u001b[1m22/22\u001b[0m \u001b[32m━━━━━━━━━━━━━━━━━━━━\u001b[0m\u001b[37m\u001b[0m \u001b[1m0s\u001b[0m 4ms/step - accuracy: 0.4823 - loss: 0.6980\n",
            "Epoch 35/50\n",
            "\u001b[1m22/22\u001b[0m \u001b[32m━━━━━━━━━━━━━━━━━━━━\u001b[0m\u001b[37m\u001b[0m \u001b[1m0s\u001b[0m 4ms/step - accuracy: 0.4821 - loss: 0.6979\n",
            "Epoch 36/50\n",
            "\u001b[1m22/22\u001b[0m \u001b[32m━━━━━━━━━━━━━━━━━━━━\u001b[0m\u001b[37m\u001b[0m \u001b[1m0s\u001b[0m 3ms/step - accuracy: 0.5274 - loss: 0.6917 \n",
            "Epoch 37/50\n",
            "\u001b[1m22/22\u001b[0m \u001b[32m━━━━━━━━━━━━━━━━━━━━\u001b[0m\u001b[37m\u001b[0m \u001b[1m0s\u001b[0m 3ms/step - accuracy: 0.5220 - loss: 0.6924 \n",
            "Epoch 38/50\n",
            "\u001b[1m22/22\u001b[0m \u001b[32m━━━━━━━━━━━━━━━━━━━━\u001b[0m\u001b[37m\u001b[0m \u001b[1m0s\u001b[0m 3ms/step - accuracy: 0.5028 - loss: 0.6950 \n",
            "Epoch 39/50\n",
            "\u001b[1m22/22\u001b[0m \u001b[32m━━━━━━━━━━━━━━━━━━━━\u001b[0m\u001b[37m\u001b[0m \u001b[1m0s\u001b[0m 4ms/step - accuracy: 0.5031 - loss: 0.6949\n",
            "Epoch 40/50\n",
            "\u001b[1m22/22\u001b[0m \u001b[32m━━━━━━━━━━━━━━━━━━━━\u001b[0m\u001b[37m\u001b[0m \u001b[1m0s\u001b[0m 5ms/step - accuracy: 0.4965 - loss: 0.6957\n",
            "Epoch 41/50\n",
            "\u001b[1m22/22\u001b[0m \u001b[32m━━━━━━━━━━━━━━━━━━━━\u001b[0m\u001b[37m\u001b[0m \u001b[1m0s\u001b[0m 4ms/step - accuracy: 0.5306 - loss: 0.6913\n",
            "Epoch 42/50\n",
            "\u001b[1m22/22\u001b[0m \u001b[32m━━━━━━━━━━━━━━━━━━━━\u001b[0m\u001b[37m\u001b[0m \u001b[1m0s\u001b[0m 4ms/step - accuracy: 0.5206 - loss: 0.6926\n",
            "Epoch 43/50\n",
            "\u001b[1m22/22\u001b[0m \u001b[32m━━━━━━━━━━━━━━━━━━━━\u001b[0m\u001b[37m\u001b[0m \u001b[1m0s\u001b[0m 4ms/step - accuracy: 0.5172 - loss: 0.6930\n",
            "Epoch 44/50\n",
            "\u001b[1m22/22\u001b[0m \u001b[32m━━━━━━━━━━━━━━━━━━━━\u001b[0m\u001b[37m\u001b[0m \u001b[1m0s\u001b[0m 4ms/step - accuracy: 0.5018 - loss: 0.6949\n",
            "Epoch 45/50\n",
            "\u001b[1m22/22\u001b[0m \u001b[32m━━━━━━━━━━━━━━━━━━━━\u001b[0m\u001b[37m\u001b[0m \u001b[1m0s\u001b[0m 4ms/step - accuracy: 0.5360 - loss: 0.6906\n",
            "Epoch 46/50\n",
            "\u001b[1m22/22\u001b[0m \u001b[32m━━━━━━━━━━━━━━━━━━━━\u001b[0m\u001b[37m\u001b[0m \u001b[1m0s\u001b[0m 4ms/step - accuracy: 0.5348 - loss: 0.6907\n",
            "Epoch 47/50\n",
            "\u001b[1m22/22\u001b[0m \u001b[32m━━━━━━━━━━━━━━━━━━━━\u001b[0m\u001b[37m\u001b[0m \u001b[1m0s\u001b[0m 4ms/step - accuracy: 0.5509 - loss: 0.6888\n",
            "Epoch 48/50\n",
            "\u001b[1m22/22\u001b[0m \u001b[32m━━━━━━━━━━━━━━━━━━━━\u001b[0m\u001b[37m\u001b[0m \u001b[1m0s\u001b[0m 4ms/step - accuracy: 0.5302 - loss: 0.6913\n",
            "Epoch 49/50\n",
            "\u001b[1m22/22\u001b[0m \u001b[32m━━━━━━━━━━━━━━━━━━━━\u001b[0m\u001b[37m\u001b[0m \u001b[1m0s\u001b[0m 4ms/step - accuracy: 0.5305 - loss: 0.6913\n",
            "Epoch 50/50\n",
            "\u001b[1m22/22\u001b[0m \u001b[32m━━━━━━━━━━━━━━━━━━━━\u001b[0m\u001b[37m\u001b[0m \u001b[1m0s\u001b[0m 4ms/step - accuracy: 0.5291 - loss: 0.6914\n"
          ]
        },
        {
          "output_type": "display_data",
          "data": {
            "text/plain": [
              "\u001b[1mModel: \"sequential_1\"\u001b[0m\n"
            ],
            "text/html": [
              "<pre style=\"white-space:pre;overflow-x:auto;line-height:normal;font-family:Menlo,'DejaVu Sans Mono',consolas,'Courier New',monospace\"><span style=\"font-weight: bold\">Model: \"sequential_1\"</span>\n",
              "</pre>\n"
            ]
          },
          "metadata": {}
        },
        {
          "output_type": "display_data",
          "data": {
            "text/plain": [
              "┏━━━━━━━━━━━━━━━━━━━━━━━━━━━━━━━━━┳━━━━━━━━━━━━━━━━━━━━━━━━┳━━━━━━━━━━━━━━━┓\n",
              "┃\u001b[1m \u001b[0m\u001b[1mLayer (type)                   \u001b[0m\u001b[1m \u001b[0m┃\u001b[1m \u001b[0m\u001b[1mOutput Shape          \u001b[0m\u001b[1m \u001b[0m┃\u001b[1m \u001b[0m\u001b[1m      Param #\u001b[0m\u001b[1m \u001b[0m┃\n",
              "┡━━━━━━━━━━━━━━━━━━━━━━━━━━━━━━━━━╇━━━━━━━━━━━━━━━━━━━━━━━━╇━━━━━━━━━━━━━━━┩\n",
              "│ dense_3 (\u001b[38;5;33mDense\u001b[0m)                 │ (\u001b[38;5;45mNone\u001b[0m, \u001b[38;5;34m5\u001b[0m)              │            \u001b[38;5;34m35\u001b[0m │\n",
              "├─────────────────────────────────┼────────────────────────┼───────────────┤\n",
              "│ dense_4 (\u001b[38;5;33mDense\u001b[0m)                 │ (\u001b[38;5;45mNone\u001b[0m, \u001b[38;5;34m4\u001b[0m)              │            \u001b[38;5;34m24\u001b[0m │\n",
              "├─────────────────────────────────┼────────────────────────┼───────────────┤\n",
              "│ dense_5 (\u001b[38;5;33mDense\u001b[0m)                 │ (\u001b[38;5;45mNone\u001b[0m, \u001b[38;5;34m1\u001b[0m)              │             \u001b[38;5;34m5\u001b[0m │\n",
              "└─────────────────────────────────┴────────────────────────┴───────────────┘\n"
            ],
            "text/html": [
              "<pre style=\"white-space:pre;overflow-x:auto;line-height:normal;font-family:Menlo,'DejaVu Sans Mono',consolas,'Courier New',monospace\">┏━━━━━━━━━━━━━━━━━━━━━━━━━━━━━━━━━┳━━━━━━━━━━━━━━━━━━━━━━━━┳━━━━━━━━━━━━━━━┓\n",
              "┃<span style=\"font-weight: bold\"> Layer (type)                    </span>┃<span style=\"font-weight: bold\"> Output Shape           </span>┃<span style=\"font-weight: bold\">       Param # </span>┃\n",
              "┡━━━━━━━━━━━━━━━━━━━━━━━━━━━━━━━━━╇━━━━━━━━━━━━━━━━━━━━━━━━╇━━━━━━━━━━━━━━━┩\n",
              "│ dense_3 (<span style=\"color: #0087ff; text-decoration-color: #0087ff\">Dense</span>)                 │ (<span style=\"color: #00d7ff; text-decoration-color: #00d7ff\">None</span>, <span style=\"color: #00af00; text-decoration-color: #00af00\">5</span>)              │            <span style=\"color: #00af00; text-decoration-color: #00af00\">35</span> │\n",
              "├─────────────────────────────────┼────────────────────────┼───────────────┤\n",
              "│ dense_4 (<span style=\"color: #0087ff; text-decoration-color: #0087ff\">Dense</span>)                 │ (<span style=\"color: #00d7ff; text-decoration-color: #00d7ff\">None</span>, <span style=\"color: #00af00; text-decoration-color: #00af00\">4</span>)              │            <span style=\"color: #00af00; text-decoration-color: #00af00\">24</span> │\n",
              "├─────────────────────────────────┼────────────────────────┼───────────────┤\n",
              "│ dense_5 (<span style=\"color: #0087ff; text-decoration-color: #0087ff\">Dense</span>)                 │ (<span style=\"color: #00d7ff; text-decoration-color: #00d7ff\">None</span>, <span style=\"color: #00af00; text-decoration-color: #00af00\">1</span>)              │             <span style=\"color: #00af00; text-decoration-color: #00af00\">5</span> │\n",
              "└─────────────────────────────────┴────────────────────────┴───────────────┘\n",
              "</pre>\n"
            ]
          },
          "metadata": {}
        },
        {
          "output_type": "display_data",
          "data": {
            "text/plain": [
              "\u001b[1m Total params: \u001b[0m\u001b[38;5;34m194\u001b[0m (780.00 B)\n"
            ],
            "text/html": [
              "<pre style=\"white-space:pre;overflow-x:auto;line-height:normal;font-family:Menlo,'DejaVu Sans Mono',consolas,'Courier New',monospace\"><span style=\"font-weight: bold\"> Total params: </span><span style=\"color: #00af00; text-decoration-color: #00af00\">194</span> (780.00 B)\n",
              "</pre>\n"
            ]
          },
          "metadata": {}
        },
        {
          "output_type": "display_data",
          "data": {
            "text/plain": [
              "\u001b[1m Trainable params: \u001b[0m\u001b[38;5;34m64\u001b[0m (256.00 B)\n"
            ],
            "text/html": [
              "<pre style=\"white-space:pre;overflow-x:auto;line-height:normal;font-family:Menlo,'DejaVu Sans Mono',consolas,'Courier New',monospace\"><span style=\"font-weight: bold\"> Trainable params: </span><span style=\"color: #00af00; text-decoration-color: #00af00\">64</span> (256.00 B)\n",
              "</pre>\n"
            ]
          },
          "metadata": {}
        },
        {
          "output_type": "display_data",
          "data": {
            "text/plain": [
              "\u001b[1m Non-trainable params: \u001b[0m\u001b[38;5;34m0\u001b[0m (0.00 B)\n"
            ],
            "text/html": [
              "<pre style=\"white-space:pre;overflow-x:auto;line-height:normal;font-family:Menlo,'DejaVu Sans Mono',consolas,'Courier New',monospace\"><span style=\"font-weight: bold\"> Non-trainable params: </span><span style=\"color: #00af00; text-decoration-color: #00af00\">0</span> (0.00 B)\n",
              "</pre>\n"
            ]
          },
          "metadata": {}
        },
        {
          "output_type": "display_data",
          "data": {
            "text/plain": [
              "\u001b[1m Optimizer params: \u001b[0m\u001b[38;5;34m130\u001b[0m (524.00 B)\n"
            ],
            "text/html": [
              "<pre style=\"white-space:pre;overflow-x:auto;line-height:normal;font-family:Menlo,'DejaVu Sans Mono',consolas,'Courier New',monospace\"><span style=\"font-weight: bold\"> Optimizer params: </span><span style=\"color: #00af00; text-decoration-color: #00af00\">130</span> (524.00 B)\n",
              "</pre>\n"
            ]
          },
          "metadata": {}
        }
      ]
    },
    {
      "cell_type": "code",
      "source": [
        "y_pred = ANN.predict(X_test)"
      ],
      "metadata": {
        "id": "ErOkDgLxDKMD",
        "outputId": "aae2795d-d3de-4237-cc49-24f9830395f4",
        "colab": {
          "base_uri": "https://localhost:8080/"
        }
      },
      "execution_count": null,
      "outputs": [
        {
          "output_type": "stream",
          "name": "stdout",
          "text": [
            "\u001b[1m10/10\u001b[0m \u001b[32m━━━━━━━━━━━━━━━━━━━━\u001b[0m\u001b[37m\u001b[0m \u001b[1m0s\u001b[0m 6ms/step \n"
          ]
        }
      ]
    },
    {
      "cell_type": "markdown",
      "source": [
        "# 7. Model Evaluation"
      ],
      "metadata": {
        "id": "qas909e7E4be"
      }
    },
    {
      "cell_type": "markdown",
      "source": [
        "## Logistic Regression"
      ],
      "metadata": {
        "id": "scmBFcKkFnVi"
      }
    },
    {
      "cell_type": "code",
      "source": [
        "\n",
        "print(\"LogisticRegression() Confusion Matrix\")\n",
        "print(CFM_LR)\n",
        "print(f\"LR Sensitivity (Recall): {Sen_LR:.2f}\")\n",
        "print(f\"LR Specificity: {Spec_LR:.2f}\")\n",
        "print(\"Accuracy:\", round(accuracy_score(Y_train, y_pred_LR), 2))\n",
        "\n",
        "sns.heatmap(CFM_LR, annot=True, fmt=\"d\", cmap=\"Blues\")\n",
        "plt.xlabel(\"Predicted Label\")\n",
        "plt.ylabel(\"True Label\")\n",
        "plt.title(\"Confusion matrix for LogisticRegression\")\n",
        "plt.show()"
      ],
      "metadata": {
        "id": "iAfvNWz4E37X",
        "outputId": "6980d41d-ba64-46b0-968d-9d2b2180762f",
        "colab": {
          "base_uri": "https://localhost:8080/",
          "height": 576
        }
      },
      "execution_count": null,
      "outputs": [
        {
          "output_type": "stream",
          "name": "stdout",
          "text": [
            "LogisticRegression() Confusion Matrix\n",
            "[[333   3]\n",
            " [ 10 354]]\n",
            "LR Sensitivity (Recall): 0.97\n",
            "LR Specificity: 0.99\n",
            "Accuracy: 0.98\n"
          ]
        },
        {
          "output_type": "display_data",
          "data": {
            "text/plain": [
              "<Figure size 640x480 with 2 Axes>"
            ],
            "image/png": "[encoded data removed]"
          },
          "metadata": {}
        }
      ]
    },
    {
      "cell_type": "markdown",
      "source": [
        "## Support Vector Classifier"
      ],
      "metadata": {
        "id": "tPYvMBtAFsY4"
      }
    },
    {
      "cell_type": "code",
      "source": [
        "print(\"SVM Confusion Matrix\")\n",
        "print(CFM_SVM)\n",
        "print(f\"SVM Sensitivity (Recall): {Sen_SVM:.2f}\")\n",
        "print(f\"SVM Specificity: {Spec_SVM:.2f}\")\n",
        "print(\"Accuracy:\", round(accuracy_score(Y_train, y_pred_SVM), 2))"
      ],
      "metadata": {
        "id": "5RaBMtT4E2nQ",
        "outputId": "e68885e6-3573-43e8-e1ca-abd614f85f1d",
        "colab": {
          "base_uri": "https://localhost:8080/"
        }
      },
      "execution_count": null,
      "outputs": [
        {
          "output_type": "stream",
          "name": "stdout",
          "text": [
            "SVM Confusion Matrix\n",
            "[[329   7]\n",
            " [ 13 351]]\n",
            "SVM Sensitivity (Recall): 0.96\n",
            "SVM Specificity: 0.98\n",
            "Accuracy: 0.97\n"
          ]
        }
      ]
    },
    {
      "cell_type": "markdown",
      "source": [
        "## KNeighborsClassifier"
      ],
      "metadata": {
        "id": "vN-pK74IFxa1"
      }
    },
    {
      "cell_type": "code",
      "source": [
        "print(\"KNN Confusion Matrix\")\n",
        "print(CFM_KNN)\n",
        "print(f\"KNN Sensitivity (Recall): {Sen_KNN:.2f}\")\n",
        "print(f\"KNN Specificity: {Spec_KNN:.2f}\")\n",
        "print(\"Accuracy:\", round(accuracy_score(Y_train, y_pred_KNN), 2))"
      ],
      "metadata": {
        "id": "lr6xtc6UFMoQ",
        "outputId": "3883df9d-d07b-4cb3-cb75-d650caaf3ac8",
        "colab": {
          "base_uri": "https://localhost:8080/"
        }
      },
      "execution_count": null,
      "outputs": [
        {
          "output_type": "stream",
          "name": "stdout",
          "text": [
            "KNN Confusion Matrix\n",
            "[[302  34]\n",
            " [ 56 308]]\n",
            "KNN Sensitivity (Recall): 0.85\n",
            "KNN Specificity: 0.90\n",
            "Accuracy: 0.87\n"
          ]
        }
      ]
    },
    {
      "cell_type": "markdown",
      "source": [
        "## DecisionTreeClassifier"
      ],
      "metadata": {
        "id": "HNaw0ntjFzK_"
      }
    },
    {
      "cell_type": "code",
      "source": [
        "\n",
        "print(\"DT Confusion Matrix\")\n",
        "print(CFM_DT)\n",
        "print(f\"DT Sensitivity (Recall): {Sen_DT:.2f}\")\n",
        "print(f\"DT Specificity: {Spec_DT:.2f}\")\n",
        "print(\"Accuracy:\", round(accuracy_score(Y_train, y_pred_DT), 2))"
      ],
      "metadata": {
        "id": "UbVWVEYhFMdg",
        "outputId": "49f7acf8-f522-4a92-fd04-fd9864efcdba",
        "colab": {
          "base_uri": "https://localhost:8080/"
        }
      },
      "execution_count": null,
      "outputs": [
        {
          "output_type": "stream",
          "name": "stdout",
          "text": [
            "DT Confusion Matrix\n",
            "[[336   0]\n",
            " [  0 364]]\n",
            "DT Sensitivity (Recall): 1.00\n",
            "DT Specificity: 1.00\n",
            "Accuracy: 1.0\n"
          ]
        }
      ]
    },
    {
      "cell_type": "markdown",
      "source": [
        "## RandomForestClassifier"
      ],
      "metadata": {
        "id": "i2hEm03-F7LK"
      }
    },
    {
      "cell_type": "code",
      "source": [
        "print(\"RF Confusion Matrix\")\n",
        "print(CFM_RF)\n",
        "print(f\"RF Sensitivity (Recall): {Sen_RF:.2f}\")\n",
        "print(f\"RF Specificity: {Spec_RF:.2f}\")\n",
        "print(\"Accuracy:\", round(accuracy_score(Y_train, y_pred_RF), 2))"
      ],
      "metadata": {
        "id": "WEhTAK1sFMUa",
        "outputId": "305dc97f-1268-49a8-b134-48f0fc9a8808",
        "colab": {
          "base_uri": "https://localhost:8080/"
        }
      },
      "execution_count": null,
      "outputs": [
        {
          "output_type": "stream",
          "name": "stdout",
          "text": [
            "RF Confusion Matrix\n",
            "[[334   2]\n",
            " [  1 363]]\n",
            "RF Sensitivity (Recall): 1.00\n",
            "RF Specificity: 0.99\n",
            "Accuracy: 1.0\n"
          ]
        }
      ]
    },
    {
      "cell_type": "markdown",
      "source": [
        "## XGBClassifier"
      ],
      "metadata": {
        "id": "vk1gYADdF9Rc"
      }
    },
    {
      "cell_type": "code",
      "source": [
        "print(\"XGB Confusion Matrix\")\n",
        "print(CFM_XGB)\n",
        "print(f\"XGB Sensitivity (Recall): {Sen_XGB:.2f}\")\n",
        "print(f\"XGB Specificity: {Spec_XGB:.2f}\")\n",
        "print(\"Accuracy:\", round(accuracy_score(Y_train, y_pred_XGB), 2))"
      ],
      "metadata": {
        "id": "KcQYDKmyFMKQ",
        "outputId": "e594817d-85ad-4bf1-c727-819677274412",
        "colab": {
          "base_uri": "https://localhost:8080/"
        }
      },
      "execution_count": null,
      "outputs": [
        {
          "output_type": "stream",
          "name": "stdout",
          "text": [
            "XGB Confusion Matrix\n",
            "[[336   0]\n",
            " [  0 364]]\n",
            "XGB Sensitivity (Recall): 1.00\n",
            "XGB Specificity: 1.00\n",
            "Accuracy: 1.0\n"
          ]
        }
      ]
    },
    {
      "cell_type": "markdown",
      "source": [
        "## ANN"
      ],
      "metadata": {
        "id": "8ngOaZcDGBi9"
      }
    },
    {
      "cell_type": "code",
      "source": [
        "cm = confusion_matrix(Y_test, y_pred.round())\n",
        "sns.heatmap(cm, annot=True, cmap=\"Blues\", fmt=\"d\", cbar=False)\n",
        "TN, FP, FN, TP = cm.ravel()\n",
        "Sen = TP / (TP + FN)\n",
        "Spec = TN / (TN + FP)\n",
        "print(\"ANN Confusion Matrix\")\n",
        "print(cm)\n",
        "print(f\"ANN Sensitivity (Recall): {Sen:.2f}\")\n",
        "print(f\"ANN Specificity: {Spec:.2f}\")\n",
        "print(\"Accuracy of the model:\", accuracy_score(Y_test, y_pred.round()))"
      ],
      "metadata": {
        "id": "B7BIBwbXFL9u",
        "outputId": "a97a927d-2cce-4eab-b024-695c8c58259c",
        "colab": {
          "base_uri": "https://localhost:8080/",
          "height": 534
        }
      },
      "execution_count": null,
      "outputs": [
        {
          "output_type": "stream",
          "name": "stdout",
          "text": [
            "ANN Confusion Matrix\n",
            "[[  0 164]\n",
            " [  0 136]]\n",
            "ANN Sensitivity (Recall): 1.00\n",
            "ANN Specificity: 0.00\n",
            "Accuracy of the model: 0.4533333333333333\n"
          ]
        },
        {
          "output_type": "display_data",
          "data": {
            "text/plain": [
              "<Figure size 640x480 with 1 Axes>"
            ],
            "image/png": "[encoded data removed]"
          },
          "metadata": {}
        }
      ]
    },
    {
      "cell_type": "markdown",
      "source": [
        "# 8 Model Accuracy Comparison"
      ],
      "metadata": {
        "id": "VIY3O0vLGKUS"
      }
    },
    {
      "cell_type": "code",
      "source": [
        "# Accuracy comparison\n",
        "df = {\n",
        "    \"Algorithm\": [\"LR\", \"SVC\", \"KNN\", \"RF\", \"DT\", \"XGB\", \"ANN\"],\n",
        "    \"Accuracy\": [0.98, 0.97, 0.87, 0.99, 1.00, 1.00, 0.45]\n",
        "}\n",
        "data = pd.DataFrame(df)\n",
        "\n",
        "fig, ax = plt.subplots()\n",
        "data.plot(kind=\"bar\", x=\"Algorithm\", y=\"Accuracy\", ax=ax)\n",
        "plt.xlabel(\"Algorithms\")\n",
        "plt.ylabel(\"Accuracy\")\n",
        "plt.title(\"Accuracy of Algorithms\")\n",
        "plt.show()"
      ],
      "metadata": {
        "id": "mdhNF1PDFdyS",
        "outputId": "6f1d3825-5ece-41da-97bd-83d29f4856b6",
        "colab": {
          "base_uri": "https://localhost:8080/",
          "height": 488
        }
      },
      "execution_count": null,
      "outputs": [
        {
          "output_type": "display_data",
          "data": {
            "text/plain": [
              "<Figure size 640x480 with 1 Axes>"
            ],
            "image/png": "[encoded data removed]"
          },
          "metadata": {}
        }
      ]
    },
    {
      "cell_type": "code",
      "source": [
        "# Sensitivity & Specificity comparison\n",
        "dt = {\n",
        "    \"Algorithm\": [\"LR\", \"SVC\", \"KNN\", \"RFC\", \"DT\", \"XGB\", \"ANN\"],\n",
        "    \"Specificity\": [0.99, 0.98, 0.90, 0.99, 1.00, 1.00, 1.00],\n",
        "    \"Sensitivity\": [0.98, 0.96, 0.85, 0.99, 1.00, 1.00, 0.00]\n",
        "}\n",
        "data = pd.DataFrame(dt)\n",
        "\n",
        "fig, ax = plt.subplots()\n",
        "data.plot(kind=\"bar\", x=\"Algorithm\", y=[\"Sensitivity\", \"Specificity\"], ax=ax)\n",
        "plt.xlabel(\"Algorithm\")\n",
        "plt.ylabel(\"Score\")\n",
        "plt.title(\"Sensitivity and Specificity of Algorithms\")\n",
        "plt.show()\n",
        "\n",
        "\n"
      ],
      "metadata": {
        "id": "EqMWbSTZGgvU",
        "outputId": "3424821c-1370-462c-d5d2-72cb33270659",
        "colab": {
          "base_uri": "https://localhost:8080/",
          "height": 488
        }
      },
      "execution_count": null,
      "outputs": [
        {
          "output_type": "display_data",
          "data": {
            "text/plain": [
              "<Figure size 640x480 with 1 Axes>"
            ],
            "image/png": "[encoded data removed]"
          },
          "metadata": {}
        }
      ]
    }
  ],
  "metadata": {
    "colab": {
      "toc_visible": true,
      "provenance": [],
      "include_colab_link": true
    },
    "kernelspec": {
      "display_name": "Python 3",
      "name": "python3"
    }
  },
  "nbformat": 4,
  "nbformat_minor": 0
}